{
 "cells": [
  {
   "cell_type": "raw",
   "metadata": {},
   "source": []
  },
  {
   "cell_type": "markdown",
   "metadata": {},
   "source": [
    "import numpy as np\n",
    "from numpy .linalg import inv, det"
   ]
  },
  {
   "cell_type": "code",
   "execution_count": 3,
   "metadata": {},
   "outputs": [
    {
     "name": "stdout",
     "output_type": "stream",
     "text": [
      "[1, 3, 5, 7, 9]\n",
      "[5, 7]\n"
     ]
    }
   ],
   "source": [
    "a = [1,3,5,7,9]\n",
    "print(a)\n",
    "b = [[1, 3, 5, 7, 9], [2, 4, 6, 8, 10]]\n",
    "print(b[0][2:4])"
   ]
  },
  {
   "cell_type": "code",
   "execution_count": 24,
   "metadata": {},
   "outputs": [
    {
     "data": {
      "text/plain": [
       "array([1, 3, 5, 7, 9])"
      ]
     },
     "execution_count": 24,
     "metadata": {},
     "output_type": "execute_result"
    }
   ],
   "source": [
    "# convert array to nparray\n",
    "np.asarray(a)"
   ]
  },
  {
   "cell_type": "code",
   "execution_count": 23,
   "metadata": {},
   "outputs": [
    {
     "name": "stdout",
     "output_type": "stream",
     "text": [
      "[1 3 5 7 9]\n"
     ]
    }
   ],
   "source": [
    "# Convert list to nparray\n",
    "d = np.array(a)\n",
    "print(d)"
   ]
  },
  {
   "cell_type": "code",
   "execution_count": 4,
   "metadata": {},
   "outputs": [
    {
     "name": "stdout",
     "output_type": "stream",
     "text": [
      "[1, 3, 5, 7, 9, [1, 3, 5, 7, 9], [2, 4, 6, 8, 10]]\n"
     ]
    }
   ],
   "source": [
    "# joining two list\n",
    "c = a + b\n",
    "print(c)"
   ]
  },
  {
   "cell_type": "code",
   "execution_count": 7,
   "metadata": {},
   "outputs": [
    {
     "name": "stdout",
     "output_type": "stream",
     "text": [
      "[6.  7.5 8.  0.  1. ]\n"
     ]
    }
   ],
   "source": [
    "data1 = [6, 7.5, 8, 0, 1]\n",
    "arr1 = np.array(data1)\n",
    "print(arr1)"
   ]
  },
  {
   "cell_type": "code",
   "execution_count": 8,
   "metadata": {},
   "outputs": [
    {
     "data": {
      "text/plain": [
       "array([[1, 2, 3, 4],\n",
       "       [5, 6, 7, 8]])"
      ]
     },
     "execution_count": 8,
     "metadata": {},
     "output_type": "execute_result"
    }
   ],
   "source": [
    "data2=[[1,2,3,4],[5,6,7,8]]\n",
    "arr2=np.array(data2)\n",
    "arr2"
   ]
  },
  {
   "cell_type": "code",
   "execution_count": 33,
   "metadata": {},
   "outputs": [
    {
     "name": "stdout",
     "output_type": "stream",
     "text": [
      "2\n",
      "(2, 4)\n",
      "8\n",
      "int32\n",
      "4\n",
      "<memory at 0x000001ED123FCCF0>\n"
     ]
    }
   ],
   "source": [
    "# Ndarray attributes\n",
    "print(arr2.ndim)\n",
    "print(arr2.shape)\n",
    "print(arr2.size)\n",
    "print(arr2.dtype)\n",
    "print(arr2.itemsize)\n",
    "print(arr2.data)"
   ]
  },
  {
   "cell_type": "code",
   "execution_count": 10,
   "metadata": {},
   "outputs": [
    {
     "data": {
      "text/plain": [
       "array([2, 3, 4, 5, 6, 7, 8, 9])"
      ]
     },
     "execution_count": 10,
     "metadata": {},
     "output_type": "execute_result"
    }
   ],
   "source": [
    "# Create array\n",
    "#range function to create arrays\n",
    "np.arange(2,10)"
   ]
  },
  {
   "cell_type": "code",
   "execution_count": 11,
   "metadata": {},
   "outputs": [
    {
     "data": {
      "text/plain": [
       "array([0., 0., 0., 0., 0., 0., 0., 0., 0., 0.])"
      ]
     },
     "execution_count": 11,
     "metadata": {},
     "output_type": "execute_result"
    }
   ],
   "source": [
    "# Functions to create arrays of certain default values\n",
    "np.zeros(10)"
   ]
  },
  {
   "cell_type": "code",
   "execution_count": 12,
   "metadata": {},
   "outputs": [
    {
     "data": {
      "text/plain": [
       "array([[0., 0., 0., 0., 0., 0.],\n",
       "       [0., 0., 0., 0., 0., 0.],\n",
       "       [0., 0., 0., 0., 0., 0.]])"
      ]
     },
     "execution_count": 12,
     "metadata": {},
     "output_type": "execute_result"
    }
   ],
   "source": [
    "np.zeros((3,6))"
   ]
  },
  {
   "cell_type": "code",
   "execution_count": 13,
   "metadata": {},
   "outputs": [
    {
     "data": {
      "text/plain": [
       "array([[1., 1.],\n",
       "       [1., 1.],\n",
       "       [1., 1.],\n",
       "       [1., 1.]])"
      ]
     },
     "execution_count": 13,
     "metadata": {},
     "output_type": "execute_result"
    }
   ],
   "source": [
    "np.ones((4,2))"
   ]
  },
  {
   "cell_type": "code",
   "execution_count": 26,
   "metadata": {},
   "outputs": [
    {
     "data": {
      "text/plain": [
       "array([1, 1])"
      ]
     },
     "execution_count": 26,
     "metadata": {},
     "output_type": "execute_result"
    }
   ],
   "source": [
    "np.ones_like((2,2))"
   ]
  },
  {
   "cell_type": "code",
   "execution_count": 14,
   "metadata": {},
   "outputs": [
    {
     "data": {
      "text/plain": [
       "array([[[0., 0.],\n",
       "        [0., 0.],\n",
       "        [0., 0.]],\n",
       "\n",
       "       [[0., 0.],\n",
       "        [0., 0.],\n",
       "        [0., 0.]]])"
      ]
     },
     "execution_count": 14,
     "metadata": {},
     "output_type": "execute_result"
    }
   ],
   "source": [
    "np.empty((2,3,2))"
   ]
  },
  {
   "cell_type": "code",
   "execution_count": 15,
   "metadata": {},
   "outputs": [
    {
     "data": {
      "text/plain": [
       "array([[2, 2, 2],\n",
       "       [2, 2, 2]])"
      ]
     },
     "execution_count": 15,
     "metadata": {},
     "output_type": "execute_result"
    }
   ],
   "source": [
    "np.full((2,3),2)"
   ]
  },
  {
   "cell_type": "code",
   "execution_count": 29,
   "metadata": {},
   "outputs": [
    {
     "data": {
      "text/plain": [
       "array([[1., 0., 0.],\n",
       "       [0., 1., 0.],\n",
       "       [0., 0., 1.]])"
      ]
     },
     "execution_count": 29,
     "metadata": {},
     "output_type": "execute_result"
    }
   ],
   "source": [
    "# Create identity matrix\n",
    "np.eye(3,3)"
   ]
  },
  {
   "cell_type": "code",
   "execution_count": 32,
   "metadata": {},
   "outputs": [
    {
     "data": {
      "text/plain": [
       "array([[1., 0.],\n",
       "       [0., 1.]])"
      ]
     },
     "execution_count": 32,
     "metadata": {},
     "output_type": "execute_result"
    }
   ],
   "source": [
    "np.identity(2, dtype = None)"
   ]
  },
  {
   "cell_type": "code",
   "execution_count": 34,
   "metadata": {},
   "outputs": [
    {
     "data": {
      "text/plain": [
       "array([[0.5, 1. , 1.5],\n",
       "       [2. , 2.5, 3. ]])"
      ]
     },
     "execution_count": 34,
     "metadata": {},
     "output_type": "execute_result"
    }
   ],
   "source": [
    "#Array arithmetic\n",
    "arr=np.array([[1,2,3],[4,5,6]])\n",
    "#■ Multiplication\n",
    "arr*arr\n",
    "arr*0.5"
   ]
  },
  {
   "cell_type": "code",
   "execution_count": 35,
   "metadata": {},
   "outputs": [
    {
     "data": {
      "text/plain": [
       "array([[0, 0, 0],\n",
       "       [0, 0, 0]])"
      ]
     },
     "execution_count": 35,
     "metadata": {},
     "output_type": "execute_result"
    }
   ],
   "source": [
    "#■ Addition/Deduction\n",
    "arr-arr"
   ]
  },
  {
   "cell_type": "code",
   "execution_count": 36,
   "metadata": {},
   "outputs": [
    {
     "data": {
      "text/plain": [
       "array([[1.        , 0.5       , 0.33333333],\n",
       "       [0.25      , 0.2       , 0.16666667]])"
      ]
     },
     "execution_count": 36,
     "metadata": {},
     "output_type": "execute_result"
    }
   ],
   "source": [
    "#■ Division\n",
    "1/arr"
   ]
  },
  {
   "cell_type": "code",
   "execution_count": 37,
   "metadata": {},
   "outputs": [
    {
     "data": {
      "text/plain": [
       "array([[False,  True,  True],\n",
       "       [ True, False,  True]])"
      ]
     },
     "execution_count": 37,
     "metadata": {},
     "output_type": "execute_result"
    }
   ],
   "source": [
    "#■ Comparison\n",
    "arr2=np.array([[0,4,7],[7,2,10]])\n",
    "arr2>arr"
   ]
  },
  {
   "cell_type": "code",
   "execution_count": 38,
   "metadata": {},
   "outputs": [
    {
     "data": {
      "text/plain": [
       "array([[10, 11, 12, 13, 14],\n",
       "       [15, 16, 17, 18, 19]])"
      ]
     },
     "execution_count": 38,
     "metadata": {},
     "output_type": "execute_result"
    }
   ],
   "source": [
    "### another way to create a multi-dimensional array\n",
    "np.arange(10, 20) . reshape((2,5))"
   ]
  },
  {
   "cell_type": "code",
   "execution_count": 64,
   "metadata": {},
   "outputs": [
    {
     "name": "stdout",
     "output_type": "stream",
     "text": [
      "a [[1 2 3]\n",
      " [4 5 6]\n",
      " [7 8 9]]\n",
      "\n",
      " a[1::] \n",
      " [[7 8 9]]\n"
     ]
    }
   ],
   "source": [
    "a = np.arange(1,10). reshape((3,3))\n",
    "print('a',a)\n",
    "#Slicing nparray\n",
    "#Select after second row\n",
    "print(\"\\n a[1::] \\n\",a[2::])"
   ]
  },
  {
   "cell_type": "code",
   "execution_count": 63,
   "metadata": {},
   "outputs": [
    {
     "name": "stdout",
     "output_type": "stream",
     "text": [
      "a [[1 2 3]\n",
      " [4 5 6]\n",
      " [7 8 9]]\n",
      "\n",
      " a[::3] \n",
      " [[1 2 3]\n",
      " [7 8 9]]\n"
     ]
    }
   ],
   "source": [
    "print('a',a)\n",
    "#Select before second row\n",
    "print(\"\\n a[::2] \\n\",a[::2])"
   ]
  },
  {
   "cell_type": "code",
   "execution_count": 70,
   "metadata": {},
   "outputs": [
    {
     "name": "stdout",
     "output_type": "stream",
     "text": [
      "a [[1 2 3]\n",
      " [4 5 6]\n",
      " [7 8 9]]\n",
      "\n",
      " a[2] \n",
      " [7 8 9]\n"
     ]
    }
   ],
   "source": [
    "print('a',a)\n",
    "#Select second row\n",
    "print(\"\\n a[2] \\n\",a[2])"
   ]
  },
  {
   "cell_type": "code",
   "execution_count": 73,
   "metadata": {},
   "outputs": [
    {
     "name": "stdout",
     "output_type": "stream",
     "text": [
      "a [[1 2 3]\n",
      " [4 5 6]\n",
      " [7 8 9]]\n",
      "\n",
      " a[:,2] \n",
      " [3 6 9]\n"
     ]
    }
   ],
   "source": [
    "print('a',a)\n",
    "#Select all rows second column\n",
    "print(\"\\n a[:,2] \\n\",a[:,2])"
   ]
  },
  {
   "cell_type": "code",
   "execution_count": 75,
   "metadata": {},
   "outputs": [
    {
     "name": "stdout",
     "output_type": "stream",
     "text": [
      "a [[1 2 3]\n",
      " [4 5 6]\n",
      " [7 8 9]]\n",
      "\n",
      " a[:2] \n",
      " [[1 2 3]\n",
      " [4 5 6]]\n"
     ]
    }
   ],
   "source": [
    "print('a',a)\n",
    "#Select before second row\n",
    "print(\"\\n a[:2] \\n\",a[:2])"
   ]
  },
  {
   "cell_type": "code",
   "execution_count": 79,
   "metadata": {},
   "outputs": [
    {
     "name": "stdout",
     "output_type": "stream",
     "text": [
      "a [[1 2 3]\n",
      " [4 5 6]\n",
      " [7 8 9]]\n",
      "\n",
      " a[:2,1:] \n",
      " [[2 3]\n",
      " [5 6]]\n"
     ]
    }
   ],
   "source": [
    "print('a',a)\n",
    "#Select before second row after first column\n",
    "print(\"\\n a[:2,1:] \\n\",a[:2,1:])"
   ]
  },
  {
   "cell_type": "code",
   "execution_count": 80,
   "metadata": {},
   "outputs": [
    {
     "name": "stdout",
     "output_type": "stream",
     "text": [
      "a [[1 2 3]\n",
      " [4 5 6]\n",
      " [7 8 9]]\n",
      "\n",
      " a[:2] \n",
      " [[2 3]\n",
      " [5 6]\n",
      " [8 9]]\n"
     ]
    }
   ],
   "source": [
    "print('a',a)\n",
    "#Select after first column\n",
    "print(\"\\n a[:2] \\n\",a[:,1:])"
   ]
  },
  {
   "cell_type": "code",
   "execution_count": 84,
   "metadata": {},
   "outputs": [],
   "source": [
    "#set seed\n",
    "np.random.seed(123)"
   ]
  },
  {
   "cell_type": "code",
   "execution_count": 104,
   "metadata": {},
   "outputs": [
    {
     "data": {
      "text/plain": [
       "array([[-0.38753876, -0.80352208,  0.93898923,  0.43781947],\n",
       "       [ 1.14109158,  0.17145177, -1.54957884, -0.97402348],\n",
       "       [-1.0491106 , -0.46483438, -0.49055989,  1.0007457 ],\n",
       "       [ 2.14851419,  1.43240926, -0.13335333,  0.00577405]])"
      ]
     },
     "execution_count": 104,
     "metadata": {},
     "output_type": "execute_result"
    }
   ],
   "source": [
    "#Random number\n",
    "#Random number from standard normal distribution\n",
    "np.random.normal(size=(4,4))"
   ]
  },
  {
   "cell_type": "code",
   "execution_count": 105,
   "metadata": {},
   "outputs": [
    {
     "data": {
      "text/plain": [
       "array([[3, 3, 4],\n",
       "       [3, 7, 8],\n",
       "       [2, 4, 9]])"
      ]
     },
     "execution_count": 105,
     "metadata": {},
     "output_type": "execute_result"
    }
   ],
   "source": [
    "#Random integers from a range\n",
    "np.random.randint(1,10,size=(3,3))"
   ]
  },
  {
   "cell_type": "code",
   "execution_count": 110,
   "metadata": {},
   "outputs": [
    {
     "name": "stdout",
     "output_type": "stream",
     "text": [
      "standard normal array \n",
      " [[-1.25965858 -0.38548797  0.75838308 -3.78464183]\n",
      " [-1.21926273 -0.36950196  0.12348275 -0.53309587]\n",
      " [ 0.56791429 -0.34861261 -0.68503137  2.55436834]]\n"
     ]
    }
   ],
   "source": [
    "##numpy array with random numbers following the standard normal distribution \n",
    "#The size of the array is 3 rows and 4 columns\n",
    "a = np.random.normal(size=(3,4))\n",
    "print(\"standard normal array \\n\",a)"
   ]
  },
  {
   "cell_type": "code",
   "execution_count": 111,
   "metadata": {},
   "outputs": [
    {
     "name": "stdout",
     "output_type": "stream",
     "text": [
      "Display only second and third row \n",
      " [[-1.21926273 -0.36950196  0.12348275 -0.53309587]\n",
      " [ 0.56791429 -0.34861261 -0.68503137  2.55436834]]\n"
     ]
    }
   ],
   "source": [
    "#Slice the array, we only want the 2nd and 3rd rows\n",
    "a = a[1:]\n",
    "print(\"Display only second and third row \\n\",a)"
   ]
  },
  {
   "cell_type": "code",
   "execution_count": 112,
   "metadata": {},
   "outputs": [
    {
     "name": "stdout",
     "output_type": "stream",
     "text": [
      "Shape of array (2, 4)\n"
     ]
    }
   ],
   "source": [
    "# Check the shape of the array now\n",
    "print(\"Shape of array\",a.shape)"
   ]
  },
  {
   "cell_type": "code",
   "execution_count": 113,
   "metadata": {},
   "outputs": [
    {
     "name": "stdout",
     "output_type": "stream",
     "text": [
      "Multiply the elements in the array by 2 \n",
      " [[-2.43852545 -0.73900392  0.2469655  -1.06619174]\n",
      " [ 1.13582858 -0.69722521 -1.37006275  5.10873668]]\n"
     ]
    }
   ],
   "source": [
    "#Multiply the elements in the array by 2 \n",
    "a = a*2\n",
    "print(\"Multiply the elements in the array by 2 \\n\", a)"
   ]
  },
  {
   "cell_type": "code",
   "execution_count": 114,
   "metadata": {},
   "outputs": [
    {
     "name": "stdout",
     "output_type": "stream",
     "text": [
      "Change the data type to integer \n",
      " [[-2  0  0 -1]\n",
      " [ 1  0 -1  5]]\n"
     ]
    }
   ],
   "source": [
    "#Change the data type to integer\n",
    "a = a.astype(np.int32)\n",
    "print(\"Change the data type to integer \\n\", a)"
   ]
  },
  {
   "cell_type": "code",
   "execution_count": 115,
   "metadata": {},
   "outputs": [
    {
     "data": {
      "text/plain": [
       "array([[-2,  0,  0, -1],\n",
       "       [ 1,  0, -1, 10]])"
      ]
     },
     "execution_count": 115,
     "metadata": {},
     "output_type": "execute_result"
    }
   ],
   "source": [
    "#Change the value for the 4th element in the 2nd row to 10\n",
    "a[1,3] = 10\n",
    "a"
   ]
  },
  {
   "cell_type": "code",
   "execution_count": 118,
   "metadata": {},
   "outputs": [
    {
     "data": {
      "text/plain": [
       "array([[ 8.38314655,  2.97169249, -0.69954805, -0.42149052, -2.62148499],\n",
       "       [ 2.97169249,  4.18197921,  0.58441559,  1.23137837, -3.01702578],\n",
       "       [-0.69954805,  0.58441559,  7.30502761, -0.7262227 ,  3.17121887],\n",
       "       [-0.42149052,  1.23137837, -0.7262227 ,  1.36412311, -1.38477623],\n",
       "       [-2.62148499, -3.01702578,  3.17121887, -1.38477623,  7.92224205]])"
      ]
     },
     "execution_count": 118,
     "metadata": {},
     "output_type": "execute_result"
    }
   ],
   "source": [
    "#Matrix operaions\n",
    "x=np.random.randn(5,5)\n",
    "## computes the dot product of x and its transpose\n",
    "mat=x.T.dot(x)\n",
    "mat"
   ]
  },
  {
   "cell_type": "code",
   "execution_count": 121,
   "metadata": {},
   "outputs": [
    {
     "data": {
      "text/plain": [
       "array([[ 2.64216092e-01, -3.26169246e-01,  9.36710281e-02,\n",
       "         4.26145951e-01,  2.07383729e-04],\n",
       "       [-3.26169246e-01,  9.05017365e-01, -2.74470068e-01,\n",
       "        -8.65600823e-01,  1.95292462e-01],\n",
       "       [ 9.36710281e-02, -2.74470068e-01,  2.49837458e-01,\n",
       "         2.83924740e-01, -1.23909760e-01],\n",
       "       [ 4.26145951e-01, -8.65600823e-01,  2.83924740e-01,\n",
       "         1.81191148e+00,  1.44276926e-02],\n",
       "       [ 2.07383729e-04,  1.95292462e-01, -1.23909760e-01,\n",
       "         1.44276926e-02,  2.52790830e-01]])"
      ]
     },
     "execution_count": 121,
     "metadata": {},
     "output_type": "execute_result"
    }
   ],
   "source": [
    "# Inverse of matrix\n",
    "inv(mat)"
   ]
  },
  {
   "cell_type": "code",
   "execution_count": 122,
   "metadata": {},
   "outputs": [
    {
     "data": {
      "text/plain": [
       "402.446828498397"
      ]
     },
     "execution_count": 122,
     "metadata": {},
     "output_type": "execute_result"
    }
   ],
   "source": [
    "#determinant of matrix\n",
    "det(mat)"
   ]
  },
  {
   "cell_type": "code",
   "execution_count": 132,
   "metadata": {},
   "outputs": [
    {
     "name": "stdout",
     "output_type": "stream",
     "text": [
      "arr \n",
      " [0 1 2 3]\n",
      "square root of each element of arr \n",
      " [0.         1.         1.41421356 1.73205081]\n",
      "expose of each element of arr \n",
      " [ 1.          2.71828183  7.3890561  20.08553692]\n",
      "arr2 \n",
      " [4 3 9 1]\n",
      "Maximum of arr and arr2 \n",
      " [4 3 9 3]\n"
     ]
    }
   ],
   "source": [
    "#NumPy functions\n",
    "arr=np.arange(4)\n",
    "print('arr \\n',arr)\n",
    "print('square root of each element of arr \\n',np.sqrt(arr))\n",
    "print('expose of each element of arr \\n',np.exp(arr))\n",
    "arr2 = np.array([4,3,9,1])\n",
    "print('arr2 \\n',arr2)\n",
    "print('Maximum of arr and arr2 \\n',np.maximum(arr,arr2))"
   ]
  },
  {
   "cell_type": "code",
   "execution_count": 147,
   "metadata": {},
   "outputs": [
    {
     "name": "stdout",
     "output_type": "stream",
     "text": [
      "arr \n",
      " [4 5 2 9]\n",
      "arr mean:\t 5.0\n",
      "arr mean:\t 5.0\n",
      "arr sum:\t 20\n",
      "arr Standard deviation:\t 2.5495097567963922\n",
      "arr #Variance:\t 6.5\n",
      "arr Min element:\t 2\n",
      "arr Max element:\t 9\n",
      "arr Indices of Min element:\t 2\n",
      "arr Indices of Max element:\t 3\n"
     ]
    }
   ],
   "source": [
    "#Statistical methods\n",
    "arr=np.array([4,5,2,9])\n",
    "print('arr \\n',arr)\n",
    "print('arr mean:\\t',arr.mean())\n",
    "print('arr mean:\\t',np.mean(arr))\n",
    "print('arr sum:\\t',arr.sum())\n",
    "print('arr Standard deviation:\\t',arr.std())\n",
    "print('arr #Variance:\\t',arr.var())\n",
    "print('arr Min element:\\t',arr.min())\n",
    "print('arr Max element:\\t',arr.max())\n",
    "print('arr Indices of Min element:\\t',arr.argmin())\n",
    "print('arr Indices of Max element:\\t',arr.argmax())"
   ]
  },
  {
   "cell_type": "code",
   "execution_count": 148,
   "metadata": {},
   "outputs": [
    {
     "data": {
      "text/plain": [
       "array([[ 2.01538001,  0.78511579,  3.05082586,  1.10532412,  2.89489852],\n",
       "       [-1.48206762,  1.59970757,  0.58710475,  3.52590215,  1.36431463],\n",
       "       [ 1.36820102,  2.76212724,  2.5538826 ,  1.88099565,  4.35229011],\n",
       "       [-0.39713688,  0.86732042,  0.95214062,  3.06360765,  4.67240881]])"
      ]
     },
     "execution_count": 148,
     "metadata": {},
     "output_type": "execute_result"
    }
   ],
   "source": [
    "# Broadcasting\n",
    "#Sometimes even when two arrays are of different shapes, arithmetic still can work between them.\n",
    "arr1=np.arange(5)\n",
    "arr2=np.random.normal(size=(4,5))\n",
    "arr1-arr2"
   ]
  },
  {
   "cell_type": "code",
   "execution_count": 157,
   "metadata": {},
   "outputs": [
    {
     "name": "stdout",
     "output_type": "stream",
     "text": [
      "arr1 \n",
      " [[49 10 23]\n",
      " [17 16 39]\n",
      " [34 48 25]]\n",
      "arr1 after sorting \n",
      " [[10 23 49]\n",
      " [16 17 39]\n",
      " [25 34 48]]\n"
     ]
    }
   ],
   "source": [
    "#Create a 3*3 array of random integers between 10 and 50, name it arr1 and sort it.\n",
    "arr1 = np.random.randint(10,50, size=(3,3))\n",
    "print(\"arr1 \\n\",arr1)\n",
    "arr1.sort()\n",
    "print(\"arr1 after sorting \\n\",arr1)"
   ]
  },
  {
   "cell_type": "code",
   "execution_count": 158,
   "metadata": {},
   "outputs": [
    {
     "name": "stdout",
     "output_type": "stream",
     "text": [
      "arr2 \n",
      " [2.3, 7, 9, 0.5, 21, 1, 6, 4.1, 0.3, 90]\n"
     ]
    }
   ],
   "source": [
    "#Input data [2.3, 7, 9, 0.5, 21, 1, 6, 4.1, 0.3, 90] as a 1*10 array, name it arr2\n",
    "arr2 = [2.3, 7, 9, 0.5, 21, 1, 6, 4.1, 0.3, 90]\n",
    "print(\"arr2 \\n\",arr2)"
   ]
  },
  {
   "cell_type": "code",
   "execution_count": 163,
   "metadata": {},
   "outputs": [
    {
     "name": "stdout",
     "output_type": "stream",
     "text": [
      "arr3 \n",
      " [[ 2.3  7.   9. ]\n",
      " [ 0.5 21.   1. ]\n",
      " [ 6.   4.1  0.3]]\n"
     ]
    }
   ],
   "source": [
    "#Then take the first 9 values from arr2 to create a 3*3 array of which the name is arr3.\n",
    "arr3 = np.array(arr2[:9]).reshape(3,3)\n",
    "print(\"arr3 \\n\",arr3)"
   ]
  },
  {
   "cell_type": "code",
   "execution_count": 164,
   "metadata": {},
   "outputs": [
    {
     "name": "stdout",
     "output_type": "stream",
     "text": [
      "arr1 \n",
      " [[10 23 49]\n",
      " [16 17 39]\n",
      " [25 34 48]]\n",
      "arr2 \n",
      " [2.3, 7, 9, 0.5, 21, 1, 6, 4.1, 0.3, 90]\n",
      "arr3 \n",
      " [[ 2.3  7.   9. ]\n",
      " [ 0.5 21.   1. ]\n",
      " [ 6.   4.1  0.3]]\n"
     ]
    }
   ],
   "source": [
    "#Display arr1, arr2, arr3\n",
    "print(\"arr1 \\n\",arr1)\n",
    "\n",
    "\n",
    "print(\"arr3 \\n\",arr3)"
   ]
  },
  {
   "cell_type": "code",
   "execution_count": 165,
   "metadata": {},
   "outputs": [
    {
     "name": "stdout",
     "output_type": "stream",
     "text": [
      "shape of arr3 \t (3, 3)\n",
      "shadata typepe of arr3 \t float64\n"
     ]
    }
   ],
   "source": [
    "#Display the shape and the data type of the array arr3.\n",
    "print(\"shape of arr3 \\t\",arr3.shape)\n",
    "print(\"shadata typepe of arr3 \\t\",arr3.dtype)"
   ]
  },
  {
   "cell_type": "code",
   "execution_count": 166,
   "metadata": {},
   "outputs": [
    {
     "name": "stdout",
     "output_type": "stream",
     "text": [
      "Product of arr1 and arr3 \n",
      " [[ 23.  161.  441. ]\n",
      " [  8.  357.   39. ]\n",
      " [150.  139.4  14.4]]\n"
     ]
    }
   ],
   "source": [
    "#Calculate the product of arr1 and arr3.\n",
    "print(\"Product of arr1 and arr3 \\n\", arr1*arr3)"
   ]
  },
  {
   "cell_type": "code",
   "execution_count": 167,
   "metadata": {},
   "outputs": [
    {
     "name": "stdout",
     "output_type": "stream",
     "text": [
      "Check if each value in arr1 is greater than the corresponding value in arr3 \n",
      " [[ True  True  True]\n",
      " [ True False  True]\n",
      " [ True  True  True]]\n"
     ]
    }
   ],
   "source": [
    "#Check if each value in arr1 is greater than the corresponding value in arr3.\n",
    "print(\"Check if each value in arr1 is greater than the corresponding value in arr3 \\n\", arr1 > arr3)"
   ]
  },
  {
   "cell_type": "code",
   "execution_count": 168,
   "metadata": {},
   "outputs": [
    {
     "name": "stdout",
     "output_type": "stream",
     "text": [
      "Mean of arr1 29.0\n"
     ]
    }
   ],
   "source": [
    "#Calculate the mean of all values in arr1.\n",
    "print(\"Mean of arr1\", arr1.mean())"
   ]
  },
  {
   "cell_type": "code",
   "execution_count": 169,
   "metadata": {},
   "outputs": [
    {
     "name": "stdout",
     "output_type": "stream",
     "text": [
      "arr2 \n",
      " [2.3, 7, 9, 0.5, 21, 1, 6, 4.1, 0.3, 90]\n",
      "arr2 the value that is closest to 5 7\n"
     ]
    }
   ],
   "source": [
    "#Find in arr2 the value that is closest to 5.\n",
    "print(\"arr2 \\n\",arr2)\n",
    "print(\"arr2 the value that is closest to 5\",np.abs(np.array(arr2)-5).argmin())"
   ]
  },
  {
   "cell_type": "code",
   "execution_count": 172,
   "metadata": {},
   "outputs": [
    {
     "name": "stdout",
     "output_type": "stream",
     "text": [
      "multiplication between arr1 and arr3 \n",
      " [[ 328.5  753.9  127.7]\n",
      " [ 279.3  628.9  172.7]\n",
      " [ 362.5 1085.8  273.4]]\n"
     ]
    }
   ],
   "source": [
    "#Complete these matrix calculations: multiplication between arr1 and\n",
    "#arr3, inverse of arr1, determinant of arr3, and the transpose of the product\n",
    "#of arr1 and its inverse.\n",
    "print(\"multiplication between arr1 and arr3 \\n\", np.dot(arr1,arr3))"
   ]
  },
  {
   "cell_type": "code",
   "execution_count": 179,
   "metadata": {},
   "outputs": [
    {
     "name": "stdout",
     "output_type": "stream",
     "text": [
      "Inverse of arr1 \n",
      " [[-0.09286235  0.10233066  0.01165331]\n",
      " [ 0.03769119 -0.13565186  0.07174071]\n",
      " [ 0.02166788  0.04278951 -0.03605244]]\n"
     ]
    }
   ],
   "source": [
    "print(\"Inverse of arr1 \\n\", inv(arr1))"
   ]
  },
  {
   "cell_type": "code",
   "execution_count": 175,
   "metadata": {},
   "outputs": [
    {
     "name": "stdout",
     "output_type": "stream",
     "text": [
      "determinant of arr3 \n",
      " -1069.5400000000006\n"
     ]
    }
   ],
   "source": [
    "print(\"determinant of arr3 \\n\", det(arr3))"
   ]
  },
  {
   "cell_type": "code",
   "execution_count": 181,
   "metadata": {},
   "outputs": [
    {
     "name": "stdout",
     "output_type": "stream",
     "text": [
      "transpose of the product of arr1 and its inverse \n",
      " [[ 1.00000000e+00 -1.11022302e-16 -2.22044605e-16]\n",
      " [-4.16333634e-16  1.00000000e+00 -4.44089210e-16]\n",
      " [-1.59594560e-16 -1.17961196e-16  1.00000000e+00]]\n"
     ]
    }
   ],
   "source": [
    "print(\"transpose of the product of arr1 and its inverse \\n\", arr1.dot(inv(arr1)).T)"
   ]
  },
  {
   "cell_type": "code",
   "execution_count": 184,
   "metadata": {},
   "outputs": [],
   "source": [
    "import csv"
   ]
  },
  {
   "cell_type": "code",
   "execution_count": 203,
   "metadata": {},
   "outputs": [],
   "source": [
    "#Import the csv. file “Athlete.csv”. The data show several Olympic athletes’\n",
    "#information including age, height, weight, and year of participating in Olympic games\n",
    "with open('Athlete.csv', 'r') as f:\n",
    "    athlete = list(csv.reader(f,delimiter=\",\"))"
   ]
  },
  {
   "cell_type": "code",
   "execution_count": 204,
   "metadata": {},
   "outputs": [
    {
     "data": {
      "text/plain": [
       "[['ID', 'Age', 'Height', 'Weight', 'Year'],\n",
       " ['1', '24', '180', '80', '1992'],\n",
       " ['2', '23', '170', '60', '2012'],\n",
       " ['5', '21', '185', '82', '1988'],\n",
       " ['5', '21', '185', '82', '1988']]"
      ]
     },
     "execution_count": 204,
     "metadata": {},
     "output_type": "execute_result"
    }
   ],
   "source": [
    "# a) Display the first 5 rows (including headers) of the data.\n",
    "athlete[:5]"
   ]
  },
  {
   "cell_type": "code",
   "execution_count": 205,
   "metadata": {},
   "outputs": [
    {
     "name": "stdout",
     "output_type": "stream",
     "text": [
      "rows and columns are there in the data (28, 5)\n"
     ]
    }
   ],
   "source": [
    "#Create a NumPy array for the data. Show how many rows and columns are there in the data.\n",
    "ath = np.array(athlete)\n",
    "print(\"rows and columns are there in the data\",ath.shape)"
   ]
  },
  {
   "cell_type": "code",
   "execution_count": 206,
   "metadata": {},
   "outputs": [
    {
     "name": "stdout",
     "output_type": "stream",
     "text": [
      "Year column ['Year' '1993' '2012' '1988' '1988' '1992' '1992' '1994' '1994' '1992'\n",
      " '1992' '1992' '1992' '1994' '1994' '1994' '1994' '1992' '1992' '1992'\n",
      " '1992' '1994' '1994' '1994' '1994' '2002' '1980' '2000']\n"
     ]
    }
   ],
   "source": [
    "#c) Overwrite the Year value of the 2nd row (that is, the athlete whose ID is 1) with 1993\n",
    "# Display only the Year column to check if the value has been successfully changed. \n",
    "ath[1,4] = 1993\n",
    "print('Year column',ath[:,4])"
   ]
  },
  {
   "cell_type": "code",
   "execution_count": 207,
   "metadata": {},
   "outputs": [
    {
     "name": "stdout",
     "output_type": "stream",
     "text": [
      "Weight column \n",
      " [80.  60.  82.  82.  82.  82.  82.  82.  75.  75.  75.  75.  75.  75.\n",
      " 75.  75.  72.  72.  72.  72.  72.  72.  72.  72.  96.  76.5 70. ]\n",
      "Weight after deduction \n",
      " [70.  50.  72.  72.  72.  72.  72.  72.  65.  65.  65.  65.  65.  65.\n",
      " 65.  65.  62.  62.  62.  62.  62.  62.  62.  62.  86.  66.5 60. ]\n"
     ]
    }
   ],
   "source": [
    "#d) Deduct 10 from all athletes’ weights and show results.\n",
    "ath=np.array(athlete[1:],dtype=np.float16)\n",
    "print('Weight column \\n',ath[:,3])\n",
    "ath[:,3] = ath[:,3]-10\n",
    "print(\"Weight after deduction \\n\",ath[:,3])"
   ]
  },
  {
   "cell_type": "code",
   "execution_count": 208,
   "metadata": {},
   "outputs": [
    {
     "name": "stdout",
     "output_type": "stream",
     "text": [
      "[[1.000e+00 2.400e+01 1.800e+02 7.000e+01 1.992e+03 3.889e-01]\n",
      " [2.000e+00 2.300e+01 1.700e+02 5.000e+01 2.012e+03 2.942e-01]\n",
      " [5.000e+00 2.100e+01 1.850e+02 7.200e+01 1.988e+03 3.892e-01]\n",
      " [5.000e+00 2.100e+01 1.850e+02 7.200e+01 1.988e+03 3.892e-01]\n",
      " [5.000e+00 2.500e+01 1.850e+02 7.200e+01 1.992e+03 3.892e-01]\n",
      " [5.000e+00 2.500e+01 1.850e+02 7.200e+01 1.992e+03 3.892e-01]\n",
      " [5.000e+00 2.700e+01 1.850e+02 7.200e+01 1.994e+03 3.892e-01]\n",
      " [5.000e+00 2.700e+01 1.850e+02 7.200e+01 1.994e+03 3.892e-01]\n",
      " [6.000e+00 3.100e+01 1.880e+02 6.500e+01 1.992e+03 3.457e-01]\n",
      " [6.000e+00 3.100e+01 1.880e+02 6.500e+01 1.992e+03 3.457e-01]\n",
      " [6.000e+00 3.100e+01 1.880e+02 6.500e+01 1.992e+03 3.457e-01]\n",
      " [6.000e+00 3.100e+01 1.880e+02 6.500e+01 1.992e+03 3.457e-01]\n",
      " [6.000e+00 3.300e+01 1.880e+02 6.500e+01 1.994e+03 3.457e-01]\n",
      " [6.000e+00 3.300e+01 1.880e+02 6.500e+01 1.994e+03 3.457e-01]\n",
      " [6.000e+00 3.300e+01 1.880e+02 6.500e+01 1.994e+03 3.457e-01]\n",
      " [6.000e+00 3.300e+01 1.880e+02 6.500e+01 1.994e+03 3.457e-01]\n",
      " [7.000e+00 3.100e+01 1.830e+02 6.200e+01 1.992e+03 3.389e-01]\n",
      " [7.000e+00 3.100e+01 1.830e+02 6.200e+01 1.992e+03 3.389e-01]\n",
      " [7.000e+00 3.100e+01 1.830e+02 6.200e+01 1.992e+03 3.389e-01]\n",
      " [7.000e+00 3.100e+01 1.830e+02 6.200e+01 1.992e+03 3.389e-01]\n",
      " [7.000e+00 3.300e+01 1.830e+02 6.200e+01 1.994e+03 3.389e-01]\n",
      " [7.000e+00 3.300e+01 1.830e+02 6.200e+01 1.994e+03 3.389e-01]\n",
      " [7.000e+00 3.300e+01 1.830e+02 6.200e+01 1.994e+03 3.389e-01]\n",
      " [7.000e+00 3.300e+01 1.830e+02 6.200e+01 1.994e+03 3.389e-01]\n",
      " [9.000e+00 2.600e+01 1.860e+02 8.600e+01 2.002e+03 4.624e-01]\n",
      " [1.100e+01 2.200e+01 1.820e+02 6.650e+01 1.980e+03 3.655e-01]\n",
      " [1.200e+01 3.100e+01 1.720e+02 6.000e+01 2.000e+03 3.489e-01]]\n"
     ]
    }
   ],
   "source": [
    "#Add a new column to the array to show the ratio of weight to height of each athlete\n",
    "print(\"ath shape\",ath.shape)\n",
    "whr = np.reshape(ath[:,3]/ath[:,2], (27,1))\n",
    "whr\n",
    "ath=np.append(ath, whr, axis=1)\n",
    "print(ath)"
   ]
  },
  {
   "cell_type": "code",
   "execution_count": 209,
   "metadata": {},
   "outputs": [
    {
     "name": "stdout",
     "output_type": "stream",
     "text": [
      "standard normal distribution array [[ 0.8373722  -1.73322164 -1.26620989  0.23590947  0.54790236  0.21719083]]\n",
      "add standard normal distribution to ath array [[1.83737220e+00 2.22667784e+01 1.78733790e+02 7.02359095e+01\n",
      "  1.99254790e+03 6.06106845e-01]\n",
      " [2.83737220e+00 2.12667784e+01 1.68733790e+02 5.02359095e+01\n",
      "  2.01254790e+03 5.11380282e-01]\n",
      " [5.83737220e+00 1.92667784e+01 1.83733790e+02 7.22359095e+01\n",
      "  1.98854790e+03 6.06350985e-01]\n",
      " [5.83737220e+00 1.92667784e+01 1.83733790e+02 7.22359095e+01\n",
      "  1.98854790e+03 6.06350985e-01]\n",
      " [5.83737220e+00 2.32667784e+01 1.83733790e+02 7.22359095e+01\n",
      "  1.99254790e+03 6.06350985e-01]\n",
      " [5.83737220e+00 2.32667784e+01 1.83733790e+02 7.22359095e+01\n",
      "  1.99254790e+03 6.06350985e-01]\n",
      " [5.83737220e+00 2.52667784e+01 1.83733790e+02 7.22359095e+01\n",
      "  1.99454790e+03 6.06350985e-01]\n",
      " [5.83737220e+00 2.52667784e+01 1.83733790e+02 7.22359095e+01\n",
      "  1.99454790e+03 6.06350985e-01]\n",
      " [6.83737220e+00 2.92667784e+01 1.86733790e+02 6.52359095e+01\n",
      "  1.99254790e+03 5.62893954e-01]\n",
      " [6.83737220e+00 2.92667784e+01 1.86733790e+02 6.52359095e+01\n",
      "  1.99254790e+03 5.62893954e-01]\n",
      " [6.83737220e+00 2.92667784e+01 1.86733790e+02 6.52359095e+01\n",
      "  1.99254790e+03 5.62893954e-01]\n",
      " [6.83737220e+00 2.92667784e+01 1.86733790e+02 6.52359095e+01\n",
      "  1.99254790e+03 5.62893954e-01]\n",
      " [6.83737220e+00 3.12667784e+01 1.86733790e+02 6.52359095e+01\n",
      "  1.99454790e+03 5.62893954e-01]\n",
      " [6.83737220e+00 3.12667784e+01 1.86733790e+02 6.52359095e+01\n",
      "  1.99454790e+03 5.62893954e-01]\n",
      " [6.83737220e+00 3.12667784e+01 1.86733790e+02 6.52359095e+01\n",
      "  1.99454790e+03 5.62893954e-01]\n",
      " [6.83737220e+00 3.12667784e+01 1.86733790e+02 6.52359095e+01\n",
      "  1.99454790e+03 5.62893954e-01]\n",
      " [7.83737220e+00 2.92667784e+01 1.81733790e+02 6.22359095e+01\n",
      "  1.99254790e+03 5.56058016e-01]\n",
      " [7.83737220e+00 2.92667784e+01 1.81733790e+02 6.22359095e+01\n",
      "  1.99254790e+03 5.56058016e-01]\n",
      " [7.83737220e+00 2.92667784e+01 1.81733790e+02 6.22359095e+01\n",
      "  1.99254790e+03 5.56058016e-01]\n",
      " [7.83737220e+00 2.92667784e+01 1.81733790e+02 6.22359095e+01\n",
      "  1.99254790e+03 5.56058016e-01]\n",
      " [7.83737220e+00 3.12667784e+01 1.81733790e+02 6.22359095e+01\n",
      "  1.99454790e+03 5.56058016e-01]\n",
      " [7.83737220e+00 3.12667784e+01 1.81733790e+02 6.22359095e+01\n",
      "  1.99454790e+03 5.56058016e-01]\n",
      " [7.83737220e+00 3.12667784e+01 1.81733790e+02 6.22359095e+01\n",
      "  1.99454790e+03 5.56058016e-01]\n",
      " [7.83737220e+00 3.12667784e+01 1.81733790e+02 6.22359095e+01\n",
      "  1.99454790e+03 5.56058016e-01]\n",
      " [9.83737220e+00 2.42667784e+01 1.84733790e+02 8.62359095e+01\n",
      "  2.00254790e+03 6.79593173e-01]\n",
      " [1.18373722e+01 2.02667784e+01 1.80733790e+02 6.67359095e+01\n",
      "  1.98054790e+03 5.82669345e-01]\n",
      " [1.28373722e+01 2.92667784e+01 1.70733790e+02 6.02359095e+01\n",
      "  2.00054790e+03 5.66067782e-01]]\n"
     ]
    }
   ],
   "source": [
    "#f) Create a 1*6 random array following standard normal distribution. \n",
    "#Add this new array to the athlete array and see what happens.\n",
    "nrm = np.random.normal(size = (1,6))\n",
    "print(\"standard normal distribution array\",nrm)\n",
    "print(\"add standard normal distribution to ath array\",nrm+ath)"
   ]
  },
  {
   "cell_type": "code",
   "execution_count": 210,
   "metadata": {},
   "outputs": [],
   "source": [
    "#Create a vectorize function that adds 1 to the original value if the original value is less than 0.\n",
    "def vec(a):\n",
    "    if a < 0:\n",
    "        return a+1\n",
    "    else:\n",
    "        return a"
   ]
  },
  {
   "cell_type": "code",
   "execution_count": 211,
   "metadata": {},
   "outputs": [
    {
     "data": {
      "text/plain": [
       "array([[ 0.8373722 , -0.73322164, -0.26620989,  0.23590947,  0.54790236,\n",
       "         0.21719083]])"
      ]
     },
     "execution_count": 211,
     "metadata": {},
     "output_type": "execute_result"
    }
   ],
   "source": [
    " # Run the function on the normal distribution array created in f).\n",
    "vfunc=np.vectorize(vec)\n",
    "vfunc(nrm)"
   ]
  },
  {
   "cell_type": "code",
   "execution_count": 212,
   "metadata": {},
   "outputs": [
    {
     "name": "stdout",
     "output_type": "stream",
     "text": [
      "arr1\n",
      " [[ 1 98 31]\n",
      " [21 24 19]\n",
      " [61 60 85]\n",
      " [25 20 26]]\n",
      "arr1 after sorting\n",
      " [[ 1 31 98]\n",
      " [19 21 24]\n",
      " [60 61 85]\n",
      " [20 25 26]]\n"
     ]
    }
   ],
   "source": [
    "# Create a 4*3 NumPy array of random integers between 10 and 100, name it arr1 and sort it\n",
    "arr1 = np.random.randint(1,100,size=(4,3))\n",
    "print(\"arr1\\n\",arr1)\n",
    "arr1.sort()\n",
    "print(\"arr1 after sorting\\n\",arr1)"
   ]
  },
  {
   "cell_type": "code",
   "execution_count": 213,
   "metadata": {},
   "outputs": [
    {
     "name": "stdout",
     "output_type": "stream",
     "text": [
      "Shape of array (4, 3)\n",
      "Datatype of array int32\n"
     ]
    }
   ],
   "source": [
    "#Display the shape and the data type of arr1. \n",
    "print(\"Shape of array\",arr1.shape)\n",
    "print(\"Datatype of array\",arr1.dtype)\n"
   ]
  },
  {
   "cell_type": "code",
   "execution_count": 214,
   "metadata": {},
   "outputs": [
    {
     "name": "stdout",
     "output_type": "stream",
     "text": [
      "arr2 \n",
      " [[  1.5  46.5 147. ]\n",
      " [ 28.5  31.5  36. ]\n",
      " [ 90.   91.5 127.5]\n",
      " [ 30.   37.5  39. ]]\n"
     ]
    }
   ],
   "source": [
    "#Create a new 4*3 array arr2 in which each element is 1.5 times the element at the corresponding location in arr1. \n",
    "arr2 = np.array(arr1*1.5).reshape(4,3)\n",
    "print(\"arr2 \\n\",arr2)"
   ]
  },
  {
   "cell_type": "code",
   "execution_count": 217,
   "metadata": {},
   "outputs": [
    {
     "name": "stdout",
     "output_type": "stream",
     "text": [
      "arr2 after dropping first row \n",
      " [[ 28.5  31.5  36. ]\n",
      " [ 90.   91.5 127.5]\n",
      " [ 30.   37.5  39. ]]\n"
     ]
    }
   ],
   "source": [
    "#Slice arr2 to drop the first row. \n",
    "arr2 = arr2[1:]\n",
    "print(\"arr2 after dropping first row \\n\",arr2)"
   ]
  },
  {
   "cell_type": "code",
   "execution_count": 218,
   "metadata": {},
   "outputs": [
    {
     "name": "stdout",
     "output_type": "stream",
     "text": [
      "Mean of arr1 39.25\n"
     ]
    }
   ],
   "source": [
    "#Calculate the mean of all values in arr1. \n",
    "print(\"Mean of arr1\", arr1.mean())"
   ]
  },
  {
   "cell_type": "code",
   "execution_count": 219,
   "metadata": {},
   "outputs": [
    {
     "name": "stdout",
     "output_type": "stream",
     "text": [
      "arr1 \n",
      " [[ 1 31 98]\n",
      " [19 21 24]\n",
      " [60 61 85]\n",
      " [20 25 26]]\n",
      "arr2 \n",
      " [[ 28.5  31.5  36. ]\n",
      " [ 90.   91.5 127.5]\n",
      " [ 30.   37.5  39. ]]\n"
     ]
    }
   ],
   "source": [
    "#View arr1 and arr2 as matrices\n",
    "print(\"arr1 \\n\",arr1)\n",
    "print(\"arr2 \\n\",arr2)"
   ]
  },
  {
   "cell_type": "code",
   "execution_count": 220,
   "metadata": {},
   "outputs": [
    {
     "name": "stdout",
     "output_type": "stream",
     "text": [
      "arr3 \n",
      " [[ 5758.5  6543.   7810.5]\n",
      " [ 3151.5  3420.   4297.5]\n",
      " [ 9750.  10659.  13252.5]\n",
      " [ 3600.   3892.5  4921.5]]\n"
     ]
    }
   ],
   "source": [
    "#create a new matrix arr3 which is the dot product of arr1 and arr2\n",
    "arr3 = arr1.dot(arr2)\n",
    "print(\"arr3 \\n\",arr3)"
   ]
  },
  {
   "cell_type": "code",
   "execution_count": 221,
   "metadata": {},
   "outputs": [
    {
     "name": "stdout",
     "output_type": "stream",
     "text": [
      "Shape of arr3  (4, 3)\n"
     ]
    }
   ],
   "source": [
    "#what is the shape of arr3\n",
    "print(\"Shape of arr3 \",arr3.shape)"
   ]
  },
  {
   "cell_type": "code",
   "execution_count": null,
   "metadata": {},
   "outputs": [],
   "source": []
  }
 ],
 "metadata": {
  "kernelspec": {
   "display_name": "Python 3",
   "language": "python",
   "name": "python3"
  },
  "language_info": {
   "codemirror_mode": {
    "name": "ipython",
    "version": 3
   },
   "file_extension": ".py",
   "mimetype": "text/x-python",
   "name": "python",
   "nbconvert_exporter": "python",
   "pygments_lexer": "ipython3",
   "version": "3.6.5"
  }
 },
 "nbformat": 4,
 "nbformat_minor": 2
}
